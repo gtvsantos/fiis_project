{
 "cells": [
  {
   "cell_type": "code",
   "execution_count": 169,
   "metadata": {},
   "outputs": [],
   "source": [
    "import pandas as pd\n",
    "import zipfile\n",
    "import numpy as np"
   ]
  },
  {
   "cell_type": "markdown",
   "metadata": {},
   "source": [
    "### A Fazeres\n",
    "- Importar dados do IPCA <br>\n",
    "Precisa converter datas em datetime\n",
    "- Adicionar dados trimestrais e todos os indicadores imobiliários disponíveis neles\n",
    "\n",
    "- Tabelas descritivas dos dados, gráficos, etc...\n",
    "- Descrever as variáveis disponíveis nos dados e destacar as mais importantes\n",
    "\n",
    "\n",
    "\n",
    "Referência:<br>\n",
    "Dados FIIs - https://dados.cvm.gov.br/dataset/fii-doc-inf_mensal<br>\n",
    "IPCA - https://www.ibge.gov.br/estatisticas/economicas/precos-e-custos/9256-indice-nacional-de-precos-ao-consumidor-amplo.html?=&t=series-historicas<br>\n",
    "CDI - https://www.b3.com.br/pt_br/market-data-e-indices/indices/indices-de-segmentos-e-setoriais/serie-historica-do-di.htm <br>\n",
    "Indice de negociabilidade - Economática<br>\n",
    "Benchmarks - Economatica<br>\n",
    "Fechamentos - Economatica<br>\n",
    "Características Fiis - CVM e Economática<br>\n"
   ]
  },
  {
   "cell_type": "markdown",
   "metadata": {},
   "source": [
    "### Problemas:\n",
    "\n",
    "- Preços estam problemáticos / Total Return problemático\n",
    "- Dados de fechamento não coincidem com realizado, mesmo se tratando dos preços sem ajuste de proventos\n",
    "- Base CNPJ/Tickers tem dados faltantes"
   ]
  },
  {
   "attachments": {},
   "cell_type": "markdown",
   "metadata": {},
   "source": [
    "Importando os dados FIIs"
   ]
  },
  {
   "cell_type": "code",
   "execution_count": 87,
   "metadata": {},
   "outputs": [],
   "source": [
    "start_date = 2016\n",
    "end_date = 2024\n",
    "\n",
    "diretorio = r\"C:\\Users\\Gustavo Aurelio\\Desktop\\TCC\\clone_repositorio_fii\\fiis_project\\bases_zip\"\n",
    "base_mensal = pd.DataFrame()\n",
    "\n",
    "for year in range(start_date, end_date+1):\n",
    "    zip_mensal = zipfile.ZipFile(diretorio+ f\"\\Mensal_zip\\inf_mensal_fii_{year}.zip\")\n",
    "    # zip_trimestral = zipfile.ZipFile(diretorio + f\"\\Trimestral_zip\\inf_trimestral_fii_{year}.zip\")\n",
    "\n",
    "    bp_inf_mensal = pd.read_csv(zip_mensal.open(f'inf_mensal_fii_ativo_passivo_{year}.csv'), delimiter=\";\",encoding='latin-1')\n",
    "    complem_inf_mensal = pd.read_csv(zip_mensal.open(f'inf_mensal_fii_complemento_{year}.csv'), delimiter=\";\", encoding='latin-1')\n",
    "    geral_inf_mensal = pd.read_csv(zip_mensal.open(f'inf_mensal_fii_geral_{year}.csv'), delimiter=\";\", encoding='latin-1')\n",
    "    base_mensal_year=bp_inf_mensal.merge(complem_inf_mensal,how='outer',on=['Data_Referencia','CNPJ_Fundo','Versao'])\n",
    "    base_mensal_year=base_mensal_year.merge(geral_inf_mensal,how='outer',on=['Data_Referencia','CNPJ_Fundo','Versao'])\n",
    "\n",
    "    base_mensal = pd.concat([base_mensal, base_mensal_year], ignore_index=True)\n",
    "\n",
    "    #Precisa ajustar base trimestral\n",
    "    # imovel_inf_trimestral = pd.read_csv(zip_trimestral.open(f'inf_trimestral_fii_imovel_{year}.csv'), delimiter=\";\",encoding='latin-1')\n",
    "    # result_inf_trimestral = pd.read_csv(zip_trimestral.open(f'inf_trimestral_fii_resultado_contabil_financeiro_{year}.csv'), delimiter=\";\", encoding='latin-1')\n",
    "\n",
    "base_mensal['Data_Referencia'] = pd.to_datetime(base_mensal.Data_Referencia)\n",
    "cdi = pd.read_csv(r'C:\\Users\\Gustavo Aurelio\\Desktop\\TCC\\bases_gerais\\cdi.csv', delimiter=\";\", header = 38 )\n",
    "ipca = pd.read_csv(r'C:\\Users\\Gustavo Aurelio\\Desktop\\TCC\\bases_gerais\\ipca.csv', delimiter=\";\", header = 1 )\n",
    "ineg = pd.read_csv(r'C:\\Users\\Gustavo Aurelio\\Desktop\\TCC\\bases_gerais\\ineg_fiis.csv', delimiter = ';',header = 3)\n",
    "benchmarks = pd.read_csv(r'C:\\Users\\Gustavo Aurelio\\Desktop\\TCC\\bases_gerais\\economatica_benchmarks.csv', delimiter=\";\", header = 3 )\n",
    "cnpj_ticker = pd.read_excel(r'C:\\Users\\Gustavo Aurelio\\Documents\\repositorio\\Projeto FIIs\\base\\CNPJ e TICKER FIIs.xlsx',sheet_name='FIIs',header=6)\n",
    "fech_nao_ajust = pd.read_csv(r'C:\\Users\\Gustavo Aurelio\\Desktop\\TCC\\bases_gerais\\economatica_fech_nao_ajust.csv',delimiter=';',header=3)\n",
    "fech_ajust_ed = pd.read_excel(r'C:\\Users\\Gustavo Aurelio\\Desktop\\TCC\\bases_gerais\\economatica_fech_ajust_sem_divid.xlsx',header=3)\n",
    "fech_divid = pd.read_excel(r'C:\\Users\\Gustavo Aurelio\\Desktop\\TCC\\bases_gerais\\economatica_fech_ajust_com_div.xlsx',header=3)"
   ]
  },
  {
   "cell_type": "code",
   "execution_count": 138,
   "metadata": {},
   "outputs": [],
   "source": [
    "retorno_total = fech_divid.pct_change()\n",
    "retorno_total"
   ]
  },
  {
   "cell_type": "markdown",
   "metadata": {},
   "source": [
    "Importando dados auxiliares"
   ]
  },
  {
   "cell_type": "markdown",
   "metadata": {},
   "source": [
    "Cleaning and adjusting database"
   ]
  },
  {
   "cell_type": "code",
   "execution_count": 70,
   "metadata": {},
   "outputs": [],
   "source": [
    "#Cleaning no ajustments close price\n",
    "fech_nao_ajust.columns = fech_nao_ajust.columns.str.replace('Fechamento\\nnão aj p/ prov\\nEm moeda orig\\n','',regex = True)\n",
    "fech_nao_ajust = fech_nao_ajust.replace({',':'.',\n",
    "                        '-':np.nan,\n",
    "                        'Fechamento\\nnão aj p/ prov\\nEm moeda orig\\n':''},regex=True)\n",
    "fech_nao_ajust['Data'] = pd.to_datetime(fech_nao_ajust.Data,dayfirst=True)\n",
    "\n",
    "datas_desde_2003 = pd.date_range(start='2003-01-01', end=pd.Timestamp.today(), freq='D')\n",
    "df_datas = pd.DataFrame({'Data': datas_desde_2003})\n",
    "fech_nao_ajust = pd.merge(df_datas, fech_nao_ajust, on='Data', how='left')\n",
    "fech_nao_ajust = fech_nao_ajust.ffill()\n",
    "\n",
    "fech_nao_ajust = fech_nao_ajust.set_index('Data')\n",
    "fech_nao_ajust = fech_nao_ajust.apply(pd.to_numeric, errors='ignore').reset_index()\n",
    "fech_nao_ajust = fech_nao_ajust.ffill() #preencher valores faltantes com ultimo valor disponível, nos casos de final de semana ou feriados terem dados de referência\n",
    "\n",
    "fech_tidy = fech_nao_ajust.melt(id_vars='Data')\n",
    "fech_tidy.columns = ['Data_Referencia', 'Ticker', 'Fechamento']\n",
    "\n",
    "#Calculo do dividendo\n",
    "fech_ajust_ed.columns = fech_ajust_ed.columns.str.replace('Fechamento\\najus p/prov ed\\nEm moeda orig\\n','',regex = True)\n",
    "fech_ajust_ed = fech_ajust_ed.replace({',':'.',\n",
    "                        '-':np.nan},regex=True)\n",
    "fech_ajust_ed['Data'] = pd.to_datetime(fech_ajust_ed.Data,dayfirst=True)\n",
    "fech_ajust_ed = fech_ajust_ed.set_index('Data')\n",
    "\n",
    "\n",
    "fech_divid.columns = fech_divid.columns.str.replace('Fechamento\\najust p/ prov\\nEm moeda orig\\n','',regex = True)\n",
    "fech_divid = fech_divid.replace({',':'.',\n",
    "                        '-':np.nan\n",
    "                        },regex=True)\n",
    "fech_divid['Data'] = pd.to_datetime(fech_divid.Data,dayfirst=True)\n",
    "fech_divid = fech_divid.set_index('Data')\n",
    "\n",
    "\n",
    "#Cleaning monthly database\n",
    "base_mensal['CNPJ_Fundo'] = base_mensal['CNPJ_Fundo'].str.replace('/','',regex=False)\n",
    "base_mensal['CNPJ_Fundo'] = base_mensal['CNPJ_Fundo'].str.replace('.','',regex=False)\n",
    "base_mensal['CNPJ_Fundo'] = base_mensal['CNPJ_Fundo'].str.replace('-','',regex=False)\n",
    "\n",
    "#Pareando CNPJ e Tickers\n",
    "cnpj_ticker = (cnpj_ticker.loc[:,['Ticker','CNPJ/Fundo']].drop_duplicates()).dropna()\n",
    "cnpj_ticker_dic = dict(zip(cnpj_ticker['CNPJ/Fundo'], cnpj_ticker['Ticker']))\n",
    "base_mensal['Ticker'] = base_mensal['CNPJ_Fundo'].map(cnpj_ticker_dic)\n",
    "\n",
    "cdi = cdi.replace({',':'.',\n",
    "                    '-':np.nan,\n",
    "                    'ND':np.nan},regex=True)\n",
    "cdi['Taxa SELIC'] = pd.to_numeric(cdi['Taxa SELIC'])\n",
    "cdi['Data'] = pd.to_datetime(cdi.Data, dayfirst=True)\n",
    "cdi.columns = ['Data', 'tx_selic']\n",
    "\n",
    "\n",
    "benchmarks.columns = benchmarks.columns.str.replace('Fechamento\\najust p/ prov\\nEm moeda orig\\n','', regex = True)\n",
    "benchmarks = benchmarks.replace({',':'.',\n",
    "                        '-':np.nan},regex=True)\n",
    "benchmarks['Data'] = pd.to_datetime(benchmarks.Data, dayfirst=True)\n",
    "\n",
    "\n",
    "ineg.columns = ineg.columns.str.replace('Negociabilidade\\n1 meses\\nEm moeda orig\\n','',regex = True)\n",
    "ineg = ineg.replace({',':'.',\n",
    "                        '-':np.nan\n",
    "                        },regex=True)\n",
    "ineg['Data'] = pd.to_datetime(ineg.Data,dayfirst=True)\n",
    "ineg = ineg.set_index('Data')"
   ]
  },
  {
   "cell_type": "code",
   "execution_count": 83,
   "metadata": {},
   "outputs": [],
   "source": [
    "indicadores = pd.DataFrame()\n",
    "indicadores['CNPJ_Fundo'] = base_mensal['CNPJ_Fundo']\n",
    "indicadores['Data_Referencia'] = base_mensal['Data_Referencia']\n",
    "indicadores['Versao'] = base_mensal['Versao']\n",
    "indicadores['Ticker'] = base_mensal['Ticker']\n",
    "indicadores = indicadores.merge(fech_tidy,left_on = ['Ticker','Data_Referencia'], right_on = ['Ticker', 'Data_Referencia'], how= 'left')\n",
    "indicadores['Patrimonio_liquido'] = base_mensal.Patrimonio_Liquido\n",
    "indicadores['Total_Ativo'] = base_mensal.Valor_Ativo\n",
    "indicadores['Total_Passivo'] = base_mensal.Total_Passivo\n",
    "indicadores['Disponibilidades'] = base_mensal.Disponibilidades\n",
    "indicadores['Rend_distrib'] = base_mensal.Rendimentos_Distribuir\n",
    "indicadores['n_cotas'] = base_mensal.Cotas_Emitidas\n",
    "indicadores['Valor_patri_cotas'] = base_mensal.Valor_Patrimonial_Cotas\n",
    "indicadores['Div_p_cota'] = indicadores.Rend_distrib/indicadores.n_cotas\n",
    "\n",
    "indicadores['Valor_cx_perc'] = indicadores.Disponibilidades/indicadores.Total_Ativo\n",
    "indicadores['Alavancagem'] = indicadores.Total_Passivo/indicadores.Patrimonio_liquido\n",
    "indicadores['P_vp'] = indicadores.Fechamento/indicadores.Valor_patri_cotas\n",
    "indicadores['Div_yeld'] = indicadores.Div_p_cota/indicadores.Fechamento\n",
    "indicadores['conferir_dymes'] = base_mensal.Percentual_Dividend_Yield_Mes\n",
    "\n",
    "#Dividendos 12 Meses\n",
    "Dividendos = indicadores[['Data_Referencia','Ticker','Rend_distrib']].set_index('Data_Referencia')\n",
    "Dividendos = Dividendos.pivot_table(index='Data_Referencia',columns='Ticker',values='Rend_distrib')\n",
    "Dividendos_12 = Dividendos.rolling(12).sum().reset_index().melt(id_vars='Data_Referencia')\n",
    "Dividendos_12.columns = ['Data_Referencia', 'Ticker', 'Dividendos_12']\n",
    "indicadores = indicadores.merge(Dividendos_12,left_on = ['Ticker','Data_Referencia'], right_on = ['Ticker', 'Data_Referencia'], how= 'left')\n",
    "\n",
    "indicadores['Dividend_yield_12'] = (indicadores.Dividendos_12/indicadores.n_cotas)/indicadores.Fechamento"
   ]
  },
  {
   "cell_type": "code",
   "execution_count": 166,
   "metadata": {},
   "outputs": [
    {
     "data": {
      "text/plain": [
       "1099"
      ]
     },
     "execution_count": 166,
     "metadata": {},
     "output_type": "execute_result"
    }
   ],
   "source": [
    "#Teste\n",
    "len(indicadores.CNPJ_Fundo.unique())"
   ]
  },
  {
   "cell_type": "code",
   "execution_count": 167,
   "metadata": {},
   "outputs": [
    {
     "data": {
      "text/plain": [
       "358"
      ]
     },
     "execution_count": 167,
     "metadata": {},
     "output_type": "execute_result"
    }
   ],
   "source": [
    "len(indicadores.Ticker.unique())"
   ]
  },
  {
   "cell_type": "markdown",
   "metadata": {},
   "source": [
    "Adicionar Dados Trimestrais\n",
    "\n",
    "P/M²\n",
    "\n",
    "Aluguel/M²\n",
    "\n",
    "PL/M²"
   ]
  }
 ],
 "metadata": {
  "kernelspec": {
   "display_name": "Python 3",
   "language": "python",
   "name": "python3"
  },
  "language_info": {
   "codemirror_mode": {
    "name": "ipython",
    "version": 3
   },
   "file_extension": ".py",
   "mimetype": "text/x-python",
   "name": "python",
   "nbconvert_exporter": "python",
   "pygments_lexer": "ipython3",
   "version": "3.9.6"
  },
  "orig_nbformat": 4
 },
 "nbformat": 4,
 "nbformat_minor": 2
}
